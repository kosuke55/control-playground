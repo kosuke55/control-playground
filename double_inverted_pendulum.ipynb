{
 "cells": [
  {
   "cell_type": "code",
   "execution_count": 3,
   "metadata": {},
   "outputs": [
    {
     "data": {
      "image/png": "[encoded data removed]",
      "text/latex": [
       "$\\displaystyle \\frac{- \\frac{L_{1} m_{2} \\sin{\\left(2 \\theta_{1} - 2 \\theta_{2} \\right)} \\dot{\\theta}_{1}^{2}}{2} - L_{2} m_{2} \\sin{\\left(\\theta_{1} - \\theta_{2} \\right)} \\dot{\\theta}_{2}^{2} - g m_{1} \\sin{\\left(\\theta_{1} \\right)} - \\frac{g m_{2} \\sin{\\left(\\theta_{1} - 2 \\theta_{2} \\right)}}{2} - \\frac{g m_{2} \\sin{\\left(\\theta_{1} \\right)}}{2}}{L_{1} \\left(m_{1} - m_{2} \\cos^{2}{\\left(\\theta_{1} - \\theta_{2} \\right)} + m_{2}\\right)}$"
      ],
      "text/plain": [
       "                           2                                                  \n",
       "  L₁⋅m₂⋅sin(2⋅θ₁ - 2⋅θ₂)⋅θ₁̇                         2                  g⋅m₂⋅s\n",
       "- ────────────────────────── - L₂⋅m₂⋅sin(θ₁ - θ₂)⋅θ₂̇  - g⋅m₁⋅sin(θ₁) - ──────\n",
       "              2                                                               \n",
       "──────────────────────────────────────────────────────────────────────────────\n",
       "                                        ⎛           2              ⎞          \n",
       "                                     L₁⋅⎝m₁ - m₂⋅cos (θ₁ - θ₂) + m₂⎠          \n",
       "\n",
       "                           \n",
       "in(θ₁ - 2⋅θ₂)   g⋅m₂⋅sin(θ₁)\n",
       "───────────── - ────────────\n",
       "  2                 2      \n",
       "───────────────────────────\n",
       "                           \n",
       "                           "
      ]
     },
     "metadata": {},
     "output_type": "display_data"
    },
    {
     "data": {
      "image/png": "[encoded data removed]",
      "text/latex": [
       "$\\displaystyle \\frac{L_{1} m_{1} \\sin{\\left(\\theta_{1} - \\theta_{2} \\right)} \\dot{\\theta}_{1}^{2} + L_{1} m_{2} \\sin{\\left(\\theta_{1} - \\theta_{2} \\right)} \\dot{\\theta}_{1}^{2} + \\frac{L_{2} m_{2} \\sin{\\left(2 \\theta_{1} - 2 \\theta_{2} \\right)} \\dot{\\theta}_{2}^{2}}{2} + \\frac{g m_{1} \\sin{\\left(2 \\theta_{1} - \\theta_{2} \\right)}}{2} - \\frac{g m_{1} \\sin{\\left(\\theta_{2} \\right)}}{2} + \\frac{g m_{2} \\sin{\\left(2 \\theta_{1} - \\theta_{2} \\right)}}{2} - \\frac{g m_{2} \\sin{\\left(\\theta_{2} \\right)}}{2}}{L_{2} \\left(m_{1} - m_{2} \\cos^{2}{\\left(\\theta_{1} - \\theta_{2} \\right)} + m_{2}\\right)}$"
      ],
      "text/plain": [
       "                                                                           2  \n",
       "                     2                        2   L₂⋅m₂⋅sin(2⋅θ₁ - 2⋅θ₂)⋅θ₂̇  \n",
       "L₁⋅m₁⋅sin(θ₁ - θ₂)⋅θ₁̇  + L₁⋅m₂⋅sin(θ₁ - θ₂)⋅θ₁̇  + ──────────────────────────\n",
       "                                                              2               \n",
       "──────────────────────────────────────────────────────────────────────────────\n",
       "                                                              ⎛           2   \n",
       "                                                           L₂⋅⎝m₁ - m₂⋅cos (θ₁\n",
       "\n",
       "                                                                        \n",
       "  g⋅m₁⋅sin(2⋅θ₁ - θ₂)   g⋅m₁⋅sin(θ₂)   g⋅m₂⋅sin(2⋅θ₁ - θ₂)   g⋅m₂⋅sin(θ₂)\n",
       " + ─────────────────── - ──────────── + ─────────────────── - ────────────\n",
       "          2                 2                  2                 2      \n",
       "────────────────────────────────────────────────────────────────────────\n",
       "           ⎞                                                            \n",
       " - θ₂) + m₂⎠                                                            "
      ]
     },
     "metadata": {},
     "output_type": "display_data"
    }
   ],
   "source": [
    "import sympy as sp\n",
    "from sympy.physics.mechanics import dynamicsymbols, init_vprinting\n",
    "init_vprinting()\n",
    "\n",
    "theta1, theta2 = dynamicsymbols('theta1 theta2')  # 角度\n",
    "theta1_dot, theta2_dot = dynamicsymbols('theta1 theta2', 1)  # 角速度\n",
    "theta1_ddot, theta2_ddot = dynamicsymbols('theta1 theta2', 2)  # 角加速度\n",
    "m1, m2, L1, L2, g = sp.symbols('m1 m2 L1 L2 g')  # 質量、棒の長さ、重力加速度\n",
    "\n",
    "# 方程式\n",
    "eq1 = (m1 + m2) * L1 * theta1_ddot + m2 * L2 * theta2_ddot * sp.cos(theta1 - theta2) + m2 * L2 * theta2_dot**2 * sp.sin(theta1 - theta2) + g * (m1 + m2) * sp.sin(theta1)\n",
    "eq2 = m2 * L2 * theta2_ddot + m2 * L1 * theta1_ddot * sp.cos(theta1 - theta2) - m2 * L1 * theta1_dot**2 * sp.sin(theta1 - theta2) + g * m2 * sp.sin(theta2)\n",
    "\n",
    "# 連立方程式を解く\n",
    "solutions = sp.solve([eq1, eq2], (theta1_ddot, theta2_ddot))\n",
    "display(sp.simplify(solutions[theta1_ddot]))\n",
    "display(sp.simplify(solutions[theta2_ddot]))"
   ]
  },
  {
   "cell_type": "code",
   "execution_count": 4,
   "metadata": {},
   "outputs": [
    {
     "data": {
      "image/png": "[encoded data removed]",
      "text/latex": [
       "$\\displaystyle \\frac{- L_{1}^{2} m_{2} \\sin{\\left(2 \\theta_{1} - 2 \\theta_{2} \\right)} \\dot{\\theta}_{1}^{2} - 2 L_{1} L_{2} m_{2} \\sin{\\left(\\theta_{1} - \\theta_{2} \\right)} \\dot{\\theta}_{2}^{2} + 2 L_{1} g m_{1} \\sin{\\left(\\theta_{1} \\right)} + L_{1} g m_{2} \\sin{\\left(\\theta_{1} - 2 \\theta_{2} \\right)} + L_{1} g m_{2} \\sin{\\left(\\theta_{1} \\right)} + 2 \\tau}{L_{1}^{2} \\cdot \\left(2 m_{1} - m_{2} \\cos{\\left(2 \\theta_{1} - 2 \\theta_{2} \\right)} + m_{2}\\right)}$"
      ],
      "text/plain": [
       "    2                       2                             2                   \n",
       "- L₁ ⋅m₂⋅sin(2⋅θ₁ - 2⋅θ₂)⋅θ₁̇  - 2⋅L₁⋅L₂⋅m₂⋅sin(θ₁ - θ₂)⋅θ₂̇  + 2⋅L₁⋅g⋅m₁⋅sin(\n",
       "──────────────────────────────────────────────────────────────────────────────\n",
       "                                               2                              \n",
       "                                             L₁ ⋅(2⋅m₁ - m₂⋅cos(2⋅θ₁ - 2⋅θ₂) +\n",
       "\n",
       "                                                  \n",
       "θ₁) + L₁⋅g⋅m₂⋅sin(θ₁ - 2⋅θ₂) + L₁⋅g⋅m₂⋅sin(θ₁) + 2⋅τ\n",
       "──────────────────────────────────────────────────\n",
       "                                                  \n",
       " m₂)                                              "
      ]
     },
     "metadata": {},
     "output_type": "display_data"
    },
    {
     "data": {
      "image/png": "[encoded data removed]",
      "text/latex": [
       "$\\displaystyle \\frac{2 L_{1}^{2} m_{1} \\sin{\\left(\\theta_{1} - \\theta_{2} \\right)} \\dot{\\theta}_{1}^{2} + 2 L_{1}^{2} m_{2} \\sin{\\left(\\theta_{1} - \\theta_{2} \\right)} \\dot{\\theta}_{1}^{2} + L_{1} L_{2} m_{2} \\sin{\\left(2 \\theta_{1} - 2 \\theta_{2} \\right)} \\dot{\\theta}_{2}^{2} - L_{1} g m_{1} \\sin{\\left(2 \\theta_{1} - \\theta_{2} \\right)} + L_{1} g m_{1} \\sin{\\left(\\theta_{2} \\right)} - L_{1} g m_{2} \\sin{\\left(2 \\theta_{1} - \\theta_{2} \\right)} + L_{1} g m_{2} \\sin{\\left(\\theta_{2} \\right)} - 2 \\tau \\cos{\\left(\\theta_{1} - \\theta_{2} \\right)}}{L_{1} L_{2} \\cdot \\left(2 m_{1} - m_{2} \\cos{\\left(2 \\theta_{1} - 2 \\theta_{2} \\right)} + m_{2}\\right)}$"
      ],
      "text/plain": [
       "    2                   2       2                   2                         \n",
       "2⋅L₁ ⋅m₁⋅sin(θ₁ - θ₂)⋅θ₁̇  + 2⋅L₁ ⋅m₂⋅sin(θ₁ - θ₂)⋅θ₁̇  + L₁⋅L₂⋅m₂⋅sin(2⋅θ₁ - \n",
       "──────────────────────────────────────────────────────────────────────────────\n",
       "                                                                           L₁⋅\n",
       "\n",
       "      2                                                                       \n",
       "2⋅θ₂)⋅θ₂̇  - L₁⋅g⋅m₁⋅sin(2⋅θ₁ - θ₂) + L₁⋅g⋅m₁⋅sin(θ₂) - L₁⋅g⋅m₂⋅sin(2⋅θ₁ - θ₂)\n",
       "──────────────────────────────────────────────────────────────────────────────\n",
       "L₂⋅(2⋅m₁ - m₂⋅cos(2⋅θ₁ - 2⋅θ₂) + m₂)                                          \n",
       "\n",
       "                                  \n",
       " + L₁⋅g⋅m₂⋅sin(θ₂) - 2⋅τ⋅cos(θ₁ - θ₂)\n",
       "──────────────────────────────────\n",
       "                                  "
      ]
     },
     "metadata": {},
     "output_type": "display_data"
    }
   ],
   "source": [
    "import sympy as sp\n",
    "from sympy.physics.mechanics import dynamicsymbols\n",
    "\n",
    "t = sp.symbols('t')\n",
    "theta1 = dynamicsymbols('theta1')\n",
    "theta2 = dynamicsymbols('theta2')\n",
    "theta1 = theta1\n",
    "theta2 = theta2\n",
    "l1, l2, m1, m2, g = sp.symbols('L1 L2 m1 m2 g')\n",
    "\n",
    "x1 = l1 * sp.sin(theta1)\n",
    "y1 = l1 * sp.cos(theta1)\n",
    "x2 = l1 * sp.sin(theta1) + l2 * sp.sin(theta2)\n",
    "y2 = l1 * sp.cos(theta1) + l2 * sp.cos(theta2)\n",
    "\n",
    "T1 = m1 * (sp.diff(x1, t)**2 + sp.diff(y1, t)**2) / 2\n",
    "T2 = m2 * (sp.diff(x2, t)**2 + sp.diff(y2, t)**2) / 2\n",
    "T = T1 + T2\n",
    "\n",
    "V1 = m1 * g * y1\n",
    "V2 = m2 * g * y2\n",
    "V = V1 + V2\n",
    "\n",
    "L = T - V\n",
    "\n",
    "lagrange_eq1 = sp.diff(sp.diff(L, sp.diff(theta1, t)), t) - sp.diff(L, theta1)\n",
    "tau = sp.symbols('tau')\n",
    "lagrange_eq1 = lagrange_eq1 - tau\n",
    "lagrange_eq2 = sp.diff(sp.diff(L, sp.diff(theta2, t)), t) - sp.diff(L, theta2)\n",
    "\n",
    "solutions = sp.solve([lagrange_eq1, lagrange_eq2], [theta1.diff(t, 2), theta2.diff(t, 2)])\n",
    "F_theta1_ddot = solutions[theta1.diff(t, 2)]\n",
    "F_theta2_ddot = solutions[theta2.diff(t, 2)]\n",
    "display(F_theta1_ddot.simplify())\n",
    "display(F_theta2_ddot.simplify())"
   ]
  },
  {
   "cell_type": "code",
   "execution_count": 5,
   "metadata": {},
   "outputs": [
    {
     "data": {
      "image/png": "[encoded data removed]",
      "text/latex": [
       "$\\displaystyle \\frac{g m_{1} + g m_{2}}{L_{1} m_{1}}$"
      ],
      "text/plain": [
       "g⋅m₁ + g⋅m₂\n",
       "───────────\n",
       "   L₁⋅m₁   "
      ]
     },
     "metadata": {},
     "output_type": "display_data"
    },
    {
     "data": {
      "image/png": "[encoded data removed]",
      "text/latex": [
       "$\\displaystyle 0$"
      ],
      "text/plain": [
       "0"
      ]
     },
     "metadata": {},
     "output_type": "display_data"
    },
    {
     "data": {
      "image/png": "[encoded data removed]",
      "text/latex": [
       "$\\displaystyle - \\frac{g m_{2}}{L_{1} m_{1}}$"
      ],
      "text/plain": [
       "-g⋅m₂ \n",
       "──────\n",
       "L₁⋅m₁ "
      ]
     },
     "metadata": {},
     "output_type": "display_data"
    },
    {
     "data": {
      "image/png": "[encoded data removed]",
      "text/latex": [
       "$\\displaystyle 0$"
      ],
      "text/plain": [
       "0"
      ]
     },
     "metadata": {},
     "output_type": "display_data"
    },
    {
     "data": {
      "image/png": "[encoded data removed]",
      "text/latex": [
       "$\\displaystyle \\frac{- g m_{1} - g m_{2}}{L_{2} m_{1}}$"
      ],
      "text/plain": [
       "-g⋅m₁ - g⋅m₂\n",
       "────────────\n",
       "   L₂⋅m₁    "
      ]
     },
     "metadata": {},
     "output_type": "display_data"
    },
    {
     "data": {
      "image/png": "[encoded data removed]",
      "text/latex": [
       "$\\displaystyle 0$"
      ],
      "text/plain": [
       "0"
      ]
     },
     "metadata": {},
     "output_type": "display_data"
    },
    {
     "data": {
      "image/png": "[encoded data removed]",
      "text/latex": [
       "$\\displaystyle \\frac{g m_{1} + g m_{2}}{L_{2} m_{1}}$"
      ],
      "text/plain": [
       "g⋅m₁ + g⋅m₂\n",
       "───────────\n",
       "   L₂⋅m₁   "
      ]
     },
     "metadata": {},
     "output_type": "display_data"
    },
    {
     "data": {
      "image/png": "[encoded data removed]",
      "text/latex": [
       "$\\displaystyle 0$"
      ],
      "text/plain": [
       "0"
      ]
     },
     "metadata": {},
     "output_type": "display_data"
    },
    {
     "data": {
      "image/png": "[encoded data removed]",
      "text/latex": [
       "$\\displaystyle \\frac{1}{L_{1}^{2} m_{1}}$"
      ],
      "text/plain": [
       "  1   \n",
       "──────\n",
       "  2   \n",
       "L₁ ⋅m₁"
      ]
     },
     "metadata": {},
     "output_type": "display_data"
    },
    {
     "data": {
      "image/png": "[encoded data removed]",
      "text/latex": [
       "$\\displaystyle - \\frac{1}{L_{1} L_{2} m_{1}}$"
      ],
      "text/plain": [
       "  -1    \n",
       "────────\n",
       "L₁⋅L₂⋅m₁"
      ]
     },
     "metadata": {},
     "output_type": "display_data"
    }
   ],
   "source": [
    "A10 = F_theta1_ddot.diff(theta1).subs([(theta1, 0), (theta2, 0), (theta1.diff(t), 0), (theta2.diff(t), 0)])\n",
    "A11 = F_theta1_ddot.diff(theta1.diff(t)).subs([(theta1, 0), (theta2, 0), (theta1.diff(t), 0), (theta2.diff(t), 0)])\n",
    "A12 = F_theta1_ddot.diff(theta2).subs([(theta1, 0), (theta2, 0), (theta1.diff(t), 0), (theta2.diff(t), 0)])\n",
    "A13 = F_theta1_ddot.diff(theta2.diff(t)).subs([(theta1, 0), (theta2, 0), (theta1.diff(t), 0), (theta2.diff(t), 0)])\n",
    "\n",
    "A30 = F_theta2_ddot.diff(theta1).subs([(theta1, 0), (theta2, 0), (theta1.diff(t), 0), (theta2.diff(t), 0)])\n",
    "A31 = F_theta2_ddot.diff(theta1.diff(t)).subs([(theta1, 0), (theta2, 0), (theta1.diff(t), 0), (theta2.diff(t), 0)])\n",
    "A32 = F_theta2_ddot.diff(theta2).subs([(theta1, 0), (theta2, 0), (theta1.diff(t), 0), (theta2.diff(t), 0)])\n",
    "A33 = F_theta2_ddot.diff(theta2.diff(t)).subs([(theta1, 0), (theta2, 0), (theta1.diff(t), 0), (theta2.diff(t), 0)])\n",
    "\n",
    "B00 = F_theta1_ddot.diff(tau).subs([(theta1, 0), (theta2, 0), (theta1.diff(t), 0), (theta2.diff(t), 0)])\n",
    "B30 = F_theta2_ddot.diff(tau).subs([(theta1, 0), (theta2, 0), (theta1.diff(t), 0), (theta2.diff(t), 0)])\n",
    "\n",
    "display(A10.simplify())\n",
    "display(A11.simplify())\n",
    "display(A12.simplify())\n",
    "display(A13.simplify())\n",
    "display(A30.simplify())\n",
    "display(A31.simplify())\n",
    "display(A32.simplify())\n",
    "display(A33.simplify())\n",
    "\n",
    "display(B00.simplify())\n",
    "display(B30.simplify())"
   ]
  },
  {
   "cell_type": "code",
   "execution_count": 6,
   "metadata": {},
   "outputs": [
    {
     "data": {
      "text/latex": [
       "$\\displaystyle \\alpha_{1} \\ddot{\\theta}_{1} + \\alpha_{3} \\cos{\\left(\\theta_{1} - \\theta_{2} \\right)} \\ddot{\\theta}_{2} = \\begin{cases} - \\alpha_{3} \\sin{\\left(\\theta_{1} - \\theta_{2} \\right)} \\dot{\\theta}_{2}^{2} + \\alpha_{4} \\sin{\\left(\\theta_{1} \\right)} + \\mu_{2} \\dot{\\theta}_{2} + \\tau_{1} & \\text{for}\\: \\dot{\\theta}_{1} = 0 \\\\- \\alpha_{3} \\sin{\\left(\\theta_{1} - \\theta_{2} \\right)} \\dot{\\theta}_{2}^{2} + \\alpha_{4} \\sin{\\left(\\theta_{1} \\right)} - \\frac{f_{1} \\dot{\\theta}_{1}}{\\left|{\\dot{\\theta}_{1}}\\right|} - \\mu_{1} \\dot{\\theta}_{1} - \\mu_{2} \\dot{\\theta}_{1} + \\mu_{2} \\dot{\\theta}_{2} + \\tau_{1} & \\text{otherwise} \\end{cases}$"
      ],
      "text/plain": [
       "                             ⎧                                2               \n",
       "                             ⎪            - α₃⋅sin(θ₁ - θ₂)⋅θ₂̇  + α₄⋅sin(θ₁) \n",
       "                             ⎪                                                \n",
       "α₁⋅θ₁̈ + α₃⋅cos(θ₁ - θ₂)⋅θ₂̈ = ⎨                    2                f₁⋅θ₁̇   \n",
       "                             ⎪- α₃⋅sin(θ₁ - θ₂)⋅θ₂̇  + α₄⋅sin(θ₁) - ───── - μ₁\n",
       "                             ⎪                                     │θ₁̇│      \n",
       "                             ⎩                                                \n",
       "\n",
       "                                   \n",
       "+ μ₂⋅θ₂̇ + τ₁              for θ₁̇ = 0\n",
       "                                   \n",
       "                                      \n",
       "⋅θ₁̇ - μ₂⋅θ₁̇ + μ₂⋅θ₂̇ + τ₁  otherwise \n",
       "                                   \n",
       "                                   "
      ]
     },
     "metadata": {},
     "output_type": "display_data"
    },
    {
     "data": {
      "image/png": "[encoded data removed]",
      "text/latex": [
       "$\\displaystyle \\alpha_{2} \\ddot{\\theta}_{2} + \\alpha_{3} \\cos{\\left(\\theta_{1} - \\theta_{2} \\right)} \\ddot{\\theta}_{1} = \\alpha_{3} \\sin{\\left(\\theta_{1} - \\theta_{2} \\right)} \\dot{\\theta}_{1}^{2} + \\alpha_{5} \\sin{\\left(\\theta_{2} \\right)} - f_{2} \\operatorname{sign}{\\left(- \\dot{\\theta}_{1} + \\dot{\\theta}_{2} \\right)} + \\mu_{2} \\dot{\\theta}_{1} - \\mu_{2} \\dot{\\theta}_{2}$"
      ],
      "text/plain": [
       "                                               2                              \n",
       "α₂⋅θ₂̈ + α₃⋅cos(θ₁ - θ₂)⋅θ₁̈ = α₃⋅sin(θ₁ - θ₂)⋅θ₁̇  + α₅⋅sin(θ₂) - f₂⋅sign(-θ₁\n",
       "\n",
       "                   \n",
       "̇ + θ₂̇) + μ₂⋅θ₁̇ - μ₂⋅θ₂̇"
      ]
     },
     "metadata": {},
     "output_type": "display_data"
    }
   ],
   "source": [
    "# 倒立振子で学ぶ制御工学 (3.54) (3.55) に摩擦を追加する\n",
    "\n",
    "import sympy as sp\n",
    "import sys\n",
    "sys.setrecursionlimit(1500)\n",
    "\n",
    "# 時間変数の定義\n",
    "t = sp.symbols(\"t\")\n",
    "\n",
    "# 角度とその時間微分の定義\n",
    "theta1 = sp.Function(\"theta1\")(t)\n",
    "theta2 = sp.Function(\"theta2\")(t)\n",
    "theta1_dot = sp.diff(theta1, t)\n",
    "theta2_dot = sp.diff(theta2, t)\n",
    "theta1_ddot = sp.diff(theta1, t, t)\n",
    "theta2_ddot = sp.diff(theta2, t, t)\n",
    "\n",
    "# 定数の定義\n",
    "alpha1, alpha2, alpha3, alpha4, alpha5, mu1, mu2, tau1, f1, f2 = sp.symbols(\n",
    "    \"alpha1 alpha2 alpha3 alpha4 alpha5 mu1 mu2 tau1 f1 f2\"\n",
    ")\n",
    "theta12 = theta1 - theta2\n",
    "\n",
    "# 連立方程式の定義\n",
    "eq1 = sp.Eq(\n",
    "    alpha1 * theta1_ddot + alpha3 * sp.cos(theta12) * theta2_ddot,\n",
    "    -alpha3 * theta2_dot**2 * sp.sin(theta12)\n",
    "    + alpha4 * sp.sin(theta1)\n",
    "    - (mu1 + mu2) * theta1_dot\n",
    "    + mu2 * theta2_dot\n",
    "    + tau1\n",
    "    - sp.sign(theta1_dot) * f1,\n",
    ")\n",
    "eq2 = sp.Eq(\n",
    "    alpha3 * sp.cos(theta12) * theta1_ddot + alpha2 * theta2_ddot,\n",
    "    alpha3 * theta1_dot**2 * sp.sin(theta12)\n",
    "    + alpha5 * sp.sin(theta2)\n",
    "    + mu2 * theta1_dot\n",
    "    - mu2 * theta2_dot\n",
    "    - sp.sign(theta2_dot - theta1_dot) * f2,\n",
    ")\n",
    "display(eq1.simplify())\n",
    "display(eq2.simplify())"
   ]
  },
  {
   "cell_type": "code",
   "execution_count": 7,
   "metadata": {},
   "outputs": [
    {
     "data": {
      "image/png": "[encoded data removed]",
      "text/latex": [
       "$\\displaystyle - \\frac{\\alpha_{2} \\alpha_{3} \\sin{\\left(\\theta_{1} - \\theta_{2} \\right)} \\dot{\\theta}_{2}^{2}}{\\alpha_{1} \\alpha_{2} - \\alpha_{3}^{2} \\cos^{2}{\\left(\\theta_{1} - \\theta_{2} \\right)}} + \\frac{\\alpha_{2} \\alpha_{4} \\sin{\\left(\\theta_{1} \\right)}}{\\alpha_{1} \\alpha_{2} - \\alpha_{3}^{2} \\cos^{2}{\\left(\\theta_{1} - \\theta_{2} \\right)}} - \\frac{\\alpha_{2} f_{1} \\operatorname{sign}{\\left(\\dot{\\theta}_{1} \\right)}}{\\alpha_{1} \\alpha_{2} - \\alpha_{3}^{2} \\cos^{2}{\\left(\\theta_{1} - \\theta_{2} \\right)}} - \\frac{\\alpha_{2} \\mu_{1} \\dot{\\theta}_{1}}{\\alpha_{1} \\alpha_{2} - \\alpha_{3}^{2} \\cos^{2}{\\left(\\theta_{1} - \\theta_{2} \\right)}} - \\frac{\\alpha_{2} \\mu_{2} \\dot{\\theta}_{1}}{\\alpha_{1} \\alpha_{2} - \\alpha_{3}^{2} \\cos^{2}{\\left(\\theta_{1} - \\theta_{2} \\right)}} + \\frac{\\alpha_{2} \\mu_{2} \\dot{\\theta}_{2}}{\\alpha_{1} \\alpha_{2} - \\alpha_{3}^{2} \\cos^{2}{\\left(\\theta_{1} - \\theta_{2} \\right)}} + \\frac{\\alpha_{2} \\tau_{1}}{\\alpha_{1} \\alpha_{2} - \\alpha_{3}^{2} \\cos^{2}{\\left(\\theta_{1} - \\theta_{2} \\right)}} - \\frac{\\alpha_{3}^{2} \\sin{\\left(\\theta_{1} - \\theta_{2} \\right)} \\cos{\\left(\\theta_{1} - \\theta_{2} \\right)} \\dot{\\theta}_{1}^{2}}{\\alpha_{1} \\alpha_{2} - \\alpha_{3}^{2} \\cos^{2}{\\left(\\theta_{1} - \\theta_{2} \\right)}} - \\frac{\\alpha_{3} \\alpha_{5} \\sin{\\left(\\theta_{2} \\right)} \\cos{\\left(\\theta_{1} - \\theta_{2} \\right)}}{\\alpha_{1} \\alpha_{2} - \\alpha_{3}^{2} \\cos^{2}{\\left(\\theta_{1} - \\theta_{2} \\right)}} - \\frac{\\alpha_{3} f_{2} \\cos{\\left(\\theta_{1} - \\theta_{2} \\right)} \\operatorname{sign}{\\left(\\dot{\\theta}_{1} - \\dot{\\theta}_{2} \\right)}}{\\alpha_{1} \\alpha_{2} - \\alpha_{3}^{2} \\cos^{2}{\\left(\\theta_{1} - \\theta_{2} \\right)}} - \\frac{\\alpha_{3} \\mu_{2} \\cos{\\left(\\theta_{1} - \\theta_{2} \\right)} \\dot{\\theta}_{1}}{\\alpha_{1} \\alpha_{2} - \\alpha_{3}^{2} \\cos^{2}{\\left(\\theta_{1} - \\theta_{2} \\right)}} + \\frac{\\alpha_{3} \\mu_{2} \\cos{\\left(\\theta_{1} - \\theta_{2} \\right)} \\dot{\\theta}_{2}}{\\alpha_{1} \\alpha_{2} - \\alpha_{3}^{2} \\cos^{2}{\\left(\\theta_{1} - \\theta_{2} \\right)}}$"
      ],
      "text/plain": [
       "                            2                                                 \n",
       "   α₂⋅α₃⋅sin(θ₁ - θ₂)⋅θ₂̇           α₂⋅α₄⋅sin(θ₁)              α₂⋅f₁⋅sign(θ₁̇)\n",
       "- ───────────────────────── + ───────────────────────── - ────────────────────\n",
       "            2    2                      2    2                      2    2    \n",
       "  α₁⋅α₂ - α₃ ⋅cos (θ₁ - θ₂)   α₁⋅α₂ - α₃ ⋅cos (θ₁ - θ₂)   α₁⋅α₂ - α₃ ⋅cos (θ₁ \n",
       "\n",
       "                                                                              \n",
       "                α₂⋅μ₁⋅θ₁̇                   α₂⋅μ₂⋅θ₁̇                   α₂⋅μ₂⋅\n",
       "───── - ───────────────────────── - ───────────────────────── + ──────────────\n",
       "                  2    2                      2    2                      2   \n",
       "- θ₂)   α₁⋅α₂ - α₃ ⋅cos (θ₁ - θ₂)   α₁⋅α₂ - α₃ ⋅cos (θ₁ - θ₂)   α₁⋅α₂ - α₃ ⋅co\n",
       "\n",
       "                                           2                             2    \n",
       "θ₂̇                     α₂⋅τ₁             α₃ ⋅sin(θ₁ - θ₂)⋅cos(θ₁ - θ₂)⋅θ₁̇   \n",
       "─────────── + ───────────────────────── - ───────────────────────────────── - \n",
       " 2                      2    2                          2    2                \n",
       "s (θ₁ - θ₂)   α₁⋅α₂ - α₃ ⋅cos (θ₁ - θ₂)       α₁⋅α₂ - α₃ ⋅cos (θ₁ - θ₂)       \n",
       "\n",
       "                                                                              \n",
       " α₃⋅α₅⋅sin(θ₂)⋅cos(θ₁ - θ₂)   α₃⋅f₂⋅cos(θ₁ - θ₂)⋅sign(θ₁̇ - θ₂̇)     α₃⋅μ₂⋅cos\n",
       "────────────────────────── - ──────────────────────────────── - ──────────────\n",
       "          2    2                          2    2                          2   \n",
       "α₁⋅α₂ - α₃ ⋅cos (θ₁ - θ₂)       α₁⋅α₂ - α₃ ⋅cos (θ₁ - θ₂)       α₁⋅α₂ - α₃ ⋅co\n",
       "\n",
       "                                       \n",
       "(θ₁ - θ₂)⋅θ₁̇      α₃⋅μ₂⋅cos(θ₁ - θ₂)⋅θ₂̇ \n",
       "─────────── + ─────────────────────────\n",
       " 2                      2    2         \n",
       "s (θ₁ - θ₂)   α₁⋅α₂ - α₃ ⋅cos (θ₁ - θ₂)"
      ]
     },
     "metadata": {},
     "output_type": "display_data"
    },
    {
     "data": {
      "image/png": "[encoded data removed]",
      "text/latex": [
       "$\\displaystyle \\frac{\\alpha_{1} \\alpha_{3} \\sin{\\left(\\theta_{1} - \\theta_{2} \\right)} \\dot{\\theta}_{1}^{2}}{\\alpha_{1} \\alpha_{2} - \\alpha_{3}^{2} \\cos^{2}{\\left(\\theta_{1} - \\theta_{2} \\right)}} + \\frac{\\alpha_{1} \\alpha_{5} \\sin{\\left(\\theta_{2} \\right)}}{\\alpha_{1} \\alpha_{2} - \\alpha_{3}^{2} \\cos^{2}{\\left(\\theta_{1} - \\theta_{2} \\right)}} + \\frac{\\alpha_{1} f_{2} \\operatorname{sign}{\\left(\\dot{\\theta}_{1} - \\dot{\\theta}_{2} \\right)}}{\\alpha_{1} \\alpha_{2} - \\alpha_{3}^{2} \\cos^{2}{\\left(\\theta_{1} - \\theta_{2} \\right)}} + \\frac{\\alpha_{1} \\mu_{2} \\dot{\\theta}_{1}}{\\alpha_{1} \\alpha_{2} - \\alpha_{3}^{2} \\cos^{2}{\\left(\\theta_{1} - \\theta_{2} \\right)}} - \\frac{\\alpha_{1} \\mu_{2} \\dot{\\theta}_{2}}{\\alpha_{1} \\alpha_{2} - \\alpha_{3}^{2} \\cos^{2}{\\left(\\theta_{1} - \\theta_{2} \\right)}} + \\frac{\\alpha_{3}^{2} \\sin{\\left(\\theta_{1} - \\theta_{2} \\right)} \\cos{\\left(\\theta_{1} - \\theta_{2} \\right)} \\dot{\\theta}_{2}^{2}}{\\alpha_{1} \\alpha_{2} - \\alpha_{3}^{2} \\cos^{2}{\\left(\\theta_{1} - \\theta_{2} \\right)}} - \\frac{\\alpha_{3} \\alpha_{4} \\sin{\\left(\\theta_{1} \\right)} \\cos{\\left(\\theta_{1} - \\theta_{2} \\right)}}{\\alpha_{1} \\alpha_{2} - \\alpha_{3}^{2} \\cos^{2}{\\left(\\theta_{1} - \\theta_{2} \\right)}} + \\frac{\\alpha_{3} f_{1} \\cos{\\left(\\theta_{1} - \\theta_{2} \\right)} \\operatorname{sign}{\\left(\\dot{\\theta}_{1} \\right)}}{\\alpha_{1} \\alpha_{2} - \\alpha_{3}^{2} \\cos^{2}{\\left(\\theta_{1} - \\theta_{2} \\right)}} + \\frac{\\alpha_{3} \\mu_{1} \\cos{\\left(\\theta_{1} - \\theta_{2} \\right)} \\dot{\\theta}_{1}}{\\alpha_{1} \\alpha_{2} - \\alpha_{3}^{2} \\cos^{2}{\\left(\\theta_{1} - \\theta_{2} \\right)}} + \\frac{\\alpha_{3} \\mu_{2} \\cos{\\left(\\theta_{1} - \\theta_{2} \\right)} \\dot{\\theta}_{1}}{\\alpha_{1} \\alpha_{2} - \\alpha_{3}^{2} \\cos^{2}{\\left(\\theta_{1} - \\theta_{2} \\right)}} - \\frac{\\alpha_{3} \\mu_{2} \\cos{\\left(\\theta_{1} - \\theta_{2} \\right)} \\dot{\\theta}_{2}}{\\alpha_{1} \\alpha_{2} - \\alpha_{3}^{2} \\cos^{2}{\\left(\\theta_{1} - \\theta_{2} \\right)}} - \\frac{\\alpha_{3} \\tau_{1} \\cos{\\left(\\theta_{1} - \\theta_{2} \\right)}}{\\alpha_{1} \\alpha_{2} - \\alpha_{3}^{2} \\cos^{2}{\\left(\\theta_{1} - \\theta_{2} \\right)}}$"
      ],
      "text/plain": [
       "                          2                                                   \n",
       " α₁⋅α₃⋅sin(θ₁ - θ₂)⋅θ₁̇           α₁⋅α₅⋅sin(θ₂)           α₁⋅f₂⋅sign(θ₁̇ - θ₂̇\n",
       "───────────────────────── + ───────────────────────── + ──────────────────────\n",
       "          2    2                      2    2                      2    2      \n",
       "α₁⋅α₂ - α₃ ⋅cos (θ₁ - θ₂)   α₁⋅α₂ - α₃ ⋅cos (θ₁ - θ₂)   α₁⋅α₂ - α₃ ⋅cos (θ₁ - \n",
       "\n",
       "                                                               2              \n",
       ")             α₁⋅μ₂⋅θ₁̇                   α₁⋅μ₂⋅θ₂̇           α₃ ⋅sin(θ₁ - θ₂)\n",
       "─── + ───────────────────────── - ───────────────────────── + ────────────────\n",
       "                2    2                      2    2                          2 \n",
       "θ₂)   α₁⋅α₂ - α₃ ⋅cos (θ₁ - θ₂)   α₁⋅α₂ - α₃ ⋅cos (θ₁ - θ₂)       α₁⋅α₂ - α₃ ⋅\n",
       "\n",
       "               2                                                              \n",
       "⋅cos(θ₁ - θ₂)⋅θ₂̇    α₃⋅α₄⋅sin(θ₁)⋅cos(θ₁ - θ₂)   α₃⋅f₁⋅cos(θ₁ - θ₂)⋅sign(θ₁̇)\n",
       "───────────────── - ────────────────────────── + ─────────────────────────── +\n",
       "   2                          2    2                        2    2            \n",
       "cos (θ₁ - θ₂)       α₁⋅α₂ - α₃ ⋅cos (θ₁ - θ₂)     α₁⋅α₂ - α₃ ⋅cos (θ₁ - θ₂)   \n",
       "\n",
       "                                                                              \n",
       "     α₃⋅μ₁⋅cos(θ₁ - θ₂)⋅θ₁̇      α₃⋅μ₂⋅cos(θ₁ - θ₂)⋅θ₁̇      α₃⋅μ₂⋅cos(θ₁ - θ₂\n",
       " ───────────────────────── + ───────────────────────── - ─────────────────────\n",
       "           2    2                      2    2                      2    2     \n",
       " α₁⋅α₂ - α₃ ⋅cos (θ₁ - θ₂)   α₁⋅α₂ - α₃ ⋅cos (θ₁ - θ₂)   α₁⋅α₂ - α₃ ⋅cos (θ₁ -\n",
       "\n",
       "                                \n",
       ")⋅θ₂̇        α₃⋅τ₁⋅cos(θ₁ - θ₂)   \n",
       "──── - ─────────────────────────\n",
       "                 2    2         \n",
       " θ₂)   α₁⋅α₂ - α₃ ⋅cos (θ₁ - θ₂)"
      ]
     },
     "metadata": {},
     "output_type": "display_data"
    }
   ],
   "source": [
    "# 連立方程式の解を求める\n",
    "solutions = sp.solve([eq1, eq2], (theta1_ddot, theta2_ddot))\n",
    "theta1_ddot_sol = solutions[theta1_ddot]\n",
    "theta2_ddot_sol = solutions[theta2_ddot]\n",
    "\n",
    "display(theta1_ddot_sol)\n",
    "display(theta2_ddot_sol)"
   ]
  },
  {
   "cell_type": "code",
   "execution_count": 8,
   "metadata": {},
   "outputs": [
    {
     "ename": "ValueError",
     "evalue": "\nCan't calculate derivative wrt Derivative(_0, t).",
     "output_type": "error",
     "traceback": [
      "\u001b[0;31m---------------------------------------------------------------------------\u001b[0m",
      "\u001b[0;31mValueError\u001b[0m                                Traceback (most recent call last)",
      "Cell \u001b[0;32mIn[8], line 4\u001b[0m\n\u001b[1;32m      2\u001b[0m A11 \u001b[38;5;241m=\u001b[39m theta1_ddot_sol\u001b[38;5;241m.\u001b[39mdiff(theta1_dot)\u001b[38;5;241m.\u001b[39msubs([(theta1, \u001b[38;5;241m0\u001b[39m), (theta2, \u001b[38;5;241m0\u001b[39m), (theta1_dot, \u001b[38;5;241m0\u001b[39m), (theta2_dot, \u001b[38;5;241m0\u001b[39m)])\n\u001b[1;32m      3\u001b[0m A12 \u001b[38;5;241m=\u001b[39m theta1_ddot_sol\u001b[38;5;241m.\u001b[39mdiff(theta2)\u001b[38;5;241m.\u001b[39msubs([(theta1, \u001b[38;5;241m0\u001b[39m), (theta2, \u001b[38;5;241m0\u001b[39m), (theta1_dot, \u001b[38;5;241m0\u001b[39m), (theta2_dot, \u001b[38;5;241m0\u001b[39m)])\n\u001b[0;32m----> 4\u001b[0m A13 \u001b[38;5;241m=\u001b[39m theta1_ddot_sol\u001b[38;5;241m.\u001b[39mdiff(theta2_dot)\u001b[38;5;241m.\u001b[39msubs([(theta1, \u001b[38;5;241m0\u001b[39m), (theta2, \u001b[38;5;241m0\u001b[39m), (theta1_dot, \u001b[38;5;241m0\u001b[39m), (theta2_dot, \u001b[38;5;241m0\u001b[39m)])\n\u001b[1;32m      6\u001b[0m A30 \u001b[38;5;241m=\u001b[39m theta2_ddot_sol\u001b[38;5;241m.\u001b[39mdiff(theta1)\u001b[38;5;241m.\u001b[39msubs([(theta1, \u001b[38;5;241m0\u001b[39m), (theta2, \u001b[38;5;241m0\u001b[39m), (theta1_dot, \u001b[38;5;241m0\u001b[39m), (theta2_dot, \u001b[38;5;241m0\u001b[39m)])\n\u001b[1;32m      7\u001b[0m A31 \u001b[38;5;241m=\u001b[39m theta2_ddot_sol\u001b[38;5;241m.\u001b[39mdiff(theta1_dot)\u001b[38;5;241m.\u001b[39msubs([(theta1, \u001b[38;5;241m0\u001b[39m), (theta2, \u001b[38;5;241m0\u001b[39m), (theta1_dot, \u001b[38;5;241m0\u001b[39m), (theta2_dot, \u001b[38;5;241m0\u001b[39m)])\n",
      "File \u001b[0;32m~/anaconda3/lib/python3.11/site-packages/sympy/core/basic.py:1040\u001b[0m, in \u001b[0;36mBasic.subs\u001b[0;34m(self, *args, **kwargs)\u001b[0m\n\u001b[1;32m   1038\u001b[0m rv \u001b[38;5;241m=\u001b[39m \u001b[38;5;28mself\u001b[39m\n\u001b[1;32m   1039\u001b[0m \u001b[38;5;28;01mfor\u001b[39;00m old, new \u001b[38;5;129;01min\u001b[39;00m sequence:\n\u001b[0;32m-> 1040\u001b[0m     rv \u001b[38;5;241m=\u001b[39m rv\u001b[38;5;241m.\u001b[39m_subs(old, new, \u001b[38;5;241m*\u001b[39m\u001b[38;5;241m*\u001b[39mkwargs)\n\u001b[1;32m   1041\u001b[0m     \u001b[38;5;28;01mif\u001b[39;00m \u001b[38;5;129;01mnot\u001b[39;00m \u001b[38;5;28misinstance\u001b[39m(rv, Basic):\n\u001b[1;32m   1042\u001b[0m         \u001b[38;5;28;01mbreak\u001b[39;00m\n",
      "File \u001b[0;32m~/anaconda3/lib/python3.11/site-packages/sympy/core/cache.py:72\u001b[0m, in \u001b[0;36m__cacheit.<locals>.func_wrapper.<locals>.wrapper\u001b[0;34m(*args, **kwargs)\u001b[0m\n\u001b[1;32m     69\u001b[0m \u001b[38;5;129m@wraps\u001b[39m(func)\n\u001b[1;32m     70\u001b[0m \u001b[38;5;28;01mdef\u001b[39;00m \u001b[38;5;21mwrapper\u001b[39m(\u001b[38;5;241m*\u001b[39margs, \u001b[38;5;241m*\u001b[39m\u001b[38;5;241m*\u001b[39mkwargs):\n\u001b[1;32m     71\u001b[0m     \u001b[38;5;28;01mtry\u001b[39;00m:\n\u001b[0;32m---> 72\u001b[0m         retval \u001b[38;5;241m=\u001b[39m cfunc(\u001b[38;5;241m*\u001b[39margs, \u001b[38;5;241m*\u001b[39m\u001b[38;5;241m*\u001b[39mkwargs)\n\u001b[1;32m     73\u001b[0m     \u001b[38;5;28;01mexcept\u001b[39;00m \u001b[38;5;167;01mTypeError\u001b[39;00m \u001b[38;5;28;01mas\u001b[39;00m e:\n\u001b[1;32m     74\u001b[0m         \u001b[38;5;28;01mif\u001b[39;00m \u001b[38;5;129;01mnot\u001b[39;00m e\u001b[38;5;241m.\u001b[39margs \u001b[38;5;129;01mor\u001b[39;00m \u001b[38;5;129;01mnot\u001b[39;00m e\u001b[38;5;241m.\u001b[39margs[\u001b[38;5;241m0\u001b[39m]\u001b[38;5;241m.\u001b[39mstartswith(\u001b[38;5;124m'\u001b[39m\u001b[38;5;124munhashable type:\u001b[39m\u001b[38;5;124m'\u001b[39m):\n",
      "File \u001b[0;32m~/anaconda3/lib/python3.11/site-packages/sympy/core/basic.py:1154\u001b[0m, in \u001b[0;36mBasic._subs\u001b[0;34m(self, old, new, **hints)\u001b[0m\n\u001b[1;32m   1152\u001b[0m rv \u001b[38;5;241m=\u001b[39m \u001b[38;5;28mself\u001b[39m\u001b[38;5;241m.\u001b[39m_eval_subs(old, new)\n\u001b[1;32m   1153\u001b[0m \u001b[38;5;28;01mif\u001b[39;00m rv \u001b[38;5;129;01mis\u001b[39;00m \u001b[38;5;28;01mNone\u001b[39;00m:\n\u001b[0;32m-> 1154\u001b[0m     rv \u001b[38;5;241m=\u001b[39m fallback(\u001b[38;5;28mself\u001b[39m, old, new)\n\u001b[1;32m   1155\u001b[0m \u001b[38;5;28;01mreturn\u001b[39;00m rv\n",
      "File \u001b[0;32m~/anaconda3/lib/python3.11/site-packages/sympy/core/basic.py:1126\u001b[0m, in \u001b[0;36mBasic._subs.<locals>.fallback\u001b[0;34m(self, old, new)\u001b[0m\n\u001b[1;32m   1124\u001b[0m \u001b[38;5;28;01mif\u001b[39;00m \u001b[38;5;129;01mnot\u001b[39;00m \u001b[38;5;28mhasattr\u001b[39m(arg, \u001b[38;5;124m'\u001b[39m\u001b[38;5;124m_eval_subs\u001b[39m\u001b[38;5;124m'\u001b[39m):\n\u001b[1;32m   1125\u001b[0m     \u001b[38;5;28;01mcontinue\u001b[39;00m\n\u001b[0;32m-> 1126\u001b[0m arg \u001b[38;5;241m=\u001b[39m arg\u001b[38;5;241m.\u001b[39m_subs(old, new, \u001b[38;5;241m*\u001b[39m\u001b[38;5;241m*\u001b[39mhints)\n\u001b[1;32m   1127\u001b[0m \u001b[38;5;28;01mif\u001b[39;00m \u001b[38;5;129;01mnot\u001b[39;00m _aresame(arg, args[i]):\n\u001b[1;32m   1128\u001b[0m     hit \u001b[38;5;241m=\u001b[39m \u001b[38;5;28;01mTrue\u001b[39;00m\n",
      "File \u001b[0;32m~/anaconda3/lib/python3.11/site-packages/sympy/core/cache.py:72\u001b[0m, in \u001b[0;36m__cacheit.<locals>.func_wrapper.<locals>.wrapper\u001b[0;34m(*args, **kwargs)\u001b[0m\n\u001b[1;32m     69\u001b[0m \u001b[38;5;129m@wraps\u001b[39m(func)\n\u001b[1;32m     70\u001b[0m \u001b[38;5;28;01mdef\u001b[39;00m \u001b[38;5;21mwrapper\u001b[39m(\u001b[38;5;241m*\u001b[39margs, \u001b[38;5;241m*\u001b[39m\u001b[38;5;241m*\u001b[39mkwargs):\n\u001b[1;32m     71\u001b[0m     \u001b[38;5;28;01mtry\u001b[39;00m:\n\u001b[0;32m---> 72\u001b[0m         retval \u001b[38;5;241m=\u001b[39m cfunc(\u001b[38;5;241m*\u001b[39margs, \u001b[38;5;241m*\u001b[39m\u001b[38;5;241m*\u001b[39mkwargs)\n\u001b[1;32m     73\u001b[0m     \u001b[38;5;28;01mexcept\u001b[39;00m \u001b[38;5;167;01mTypeError\u001b[39;00m \u001b[38;5;28;01mas\u001b[39;00m e:\n\u001b[1;32m     74\u001b[0m         \u001b[38;5;28;01mif\u001b[39;00m \u001b[38;5;129;01mnot\u001b[39;00m e\u001b[38;5;241m.\u001b[39margs \u001b[38;5;129;01mor\u001b[39;00m \u001b[38;5;129;01mnot\u001b[39;00m e\u001b[38;5;241m.\u001b[39margs[\u001b[38;5;241m0\u001b[39m]\u001b[38;5;241m.\u001b[39mstartswith(\u001b[38;5;124m'\u001b[39m\u001b[38;5;124munhashable type:\u001b[39m\u001b[38;5;124m'\u001b[39m):\n",
      "File \u001b[0;32m~/anaconda3/lib/python3.11/site-packages/sympy/core/basic.py:1154\u001b[0m, in \u001b[0;36mBasic._subs\u001b[0;34m(self, old, new, **hints)\u001b[0m\n\u001b[1;32m   1152\u001b[0m rv \u001b[38;5;241m=\u001b[39m \u001b[38;5;28mself\u001b[39m\u001b[38;5;241m.\u001b[39m_eval_subs(old, new)\n\u001b[1;32m   1153\u001b[0m \u001b[38;5;28;01mif\u001b[39;00m rv \u001b[38;5;129;01mis\u001b[39;00m \u001b[38;5;28;01mNone\u001b[39;00m:\n\u001b[0;32m-> 1154\u001b[0m     rv \u001b[38;5;241m=\u001b[39m fallback(\u001b[38;5;28mself\u001b[39m, old, new)\n\u001b[1;32m   1155\u001b[0m \u001b[38;5;28;01mreturn\u001b[39;00m rv\n",
      "File \u001b[0;32m~/anaconda3/lib/python3.11/site-packages/sympy/core/basic.py:1126\u001b[0m, in \u001b[0;36mBasic._subs.<locals>.fallback\u001b[0;34m(self, old, new)\u001b[0m\n\u001b[1;32m   1124\u001b[0m \u001b[38;5;28;01mif\u001b[39;00m \u001b[38;5;129;01mnot\u001b[39;00m \u001b[38;5;28mhasattr\u001b[39m(arg, \u001b[38;5;124m'\u001b[39m\u001b[38;5;124m_eval_subs\u001b[39m\u001b[38;5;124m'\u001b[39m):\n\u001b[1;32m   1125\u001b[0m     \u001b[38;5;28;01mcontinue\u001b[39;00m\n\u001b[0;32m-> 1126\u001b[0m arg \u001b[38;5;241m=\u001b[39m arg\u001b[38;5;241m.\u001b[39m_subs(old, new, \u001b[38;5;241m*\u001b[39m\u001b[38;5;241m*\u001b[39mhints)\n\u001b[1;32m   1127\u001b[0m \u001b[38;5;28;01mif\u001b[39;00m \u001b[38;5;129;01mnot\u001b[39;00m _aresame(arg, args[i]):\n\u001b[1;32m   1128\u001b[0m     hit \u001b[38;5;241m=\u001b[39m \u001b[38;5;28;01mTrue\u001b[39;00m\n",
      "File \u001b[0;32m~/anaconda3/lib/python3.11/site-packages/sympy/core/cache.py:72\u001b[0m, in \u001b[0;36m__cacheit.<locals>.func_wrapper.<locals>.wrapper\u001b[0;34m(*args, **kwargs)\u001b[0m\n\u001b[1;32m     69\u001b[0m \u001b[38;5;129m@wraps\u001b[39m(func)\n\u001b[1;32m     70\u001b[0m \u001b[38;5;28;01mdef\u001b[39;00m \u001b[38;5;21mwrapper\u001b[39m(\u001b[38;5;241m*\u001b[39margs, \u001b[38;5;241m*\u001b[39m\u001b[38;5;241m*\u001b[39mkwargs):\n\u001b[1;32m     71\u001b[0m     \u001b[38;5;28;01mtry\u001b[39;00m:\n\u001b[0;32m---> 72\u001b[0m         retval \u001b[38;5;241m=\u001b[39m cfunc(\u001b[38;5;241m*\u001b[39margs, \u001b[38;5;241m*\u001b[39m\u001b[38;5;241m*\u001b[39mkwargs)\n\u001b[1;32m     73\u001b[0m     \u001b[38;5;28;01mexcept\u001b[39;00m \u001b[38;5;167;01mTypeError\u001b[39;00m \u001b[38;5;28;01mas\u001b[39;00m e:\n\u001b[1;32m     74\u001b[0m         \u001b[38;5;28;01mif\u001b[39;00m \u001b[38;5;129;01mnot\u001b[39;00m e\u001b[38;5;241m.\u001b[39margs \u001b[38;5;129;01mor\u001b[39;00m \u001b[38;5;129;01mnot\u001b[39;00m e\u001b[38;5;241m.\u001b[39margs[\u001b[38;5;241m0\u001b[39m]\u001b[38;5;241m.\u001b[39mstartswith(\u001b[38;5;124m'\u001b[39m\u001b[38;5;124munhashable type:\u001b[39m\u001b[38;5;124m'\u001b[39m):\n",
      "File \u001b[0;32m~/anaconda3/lib/python3.11/site-packages/sympy/core/basic.py:1152\u001b[0m, in \u001b[0;36mBasic._subs\u001b[0;34m(self, old, new, **hints)\u001b[0m\n\u001b[1;32m   1149\u001b[0m \u001b[38;5;28;01mif\u001b[39;00m _aresame(\u001b[38;5;28mself\u001b[39m, old):\n\u001b[1;32m   1150\u001b[0m     \u001b[38;5;28;01mreturn\u001b[39;00m new\n\u001b[0;32m-> 1152\u001b[0m rv \u001b[38;5;241m=\u001b[39m \u001b[38;5;28mself\u001b[39m\u001b[38;5;241m.\u001b[39m_eval_subs(old, new)\n\u001b[1;32m   1153\u001b[0m \u001b[38;5;28;01mif\u001b[39;00m rv \u001b[38;5;129;01mis\u001b[39;00m \u001b[38;5;28;01mNone\u001b[39;00m:\n\u001b[1;32m   1154\u001b[0m     rv \u001b[38;5;241m=\u001b[39m fallback(\u001b[38;5;28mself\u001b[39m, old, new)\n",
      "File \u001b[0;32m~/anaconda3/lib/python3.11/site-packages/sympy/core/function.py:1747\u001b[0m, in \u001b[0;36mDerivative._eval_subs\u001b[0;34m(self, old, new)\u001b[0m\n\u001b[1;32m   1745\u001b[0m         vi, _ \u001b[38;5;241m=\u001b[39m newargs[i]\n\u001b[1;32m   1746\u001b[0m         \u001b[38;5;28;01mif\u001b[39;00m a \u001b[38;5;241m==\u001b[39m vi \u001b[38;5;129;01mand\u001b[39;00m vi \u001b[38;5;241m!=\u001b[39m args[i][\u001b[38;5;241m0\u001b[39m]:\n\u001b[0;32m-> 1747\u001b[0m             \u001b[38;5;28;01mreturn\u001b[39;00m Subs(\u001b[38;5;28mself\u001b[39m, old, new)\n\u001b[1;32m   1748\u001b[0m \u001b[38;5;66;03m# more arg-wise checks\u001b[39;00m\n\u001b[1;32m   1749\u001b[0m vc \u001b[38;5;241m=\u001b[39m newargs[\u001b[38;5;241m1\u001b[39m:]\n",
      "File \u001b[0;32m~/anaconda3/lib/python3.11/site-packages/sympy/core/function.py:2216\u001b[0m, in \u001b[0;36mSubs.__new__\u001b[0;34m(cls, expr, variables, point, **assumptions)\u001b[0m\n\u001b[1;32m   2213\u001b[0m     \u001b[38;5;28;01mbreak\u001b[39;00m\n\u001b[1;32m   2215\u001b[0m obj \u001b[38;5;241m=\u001b[39m Expr\u001b[38;5;241m.\u001b[39m\u001b[38;5;21m__new__\u001b[39m(\u001b[38;5;28mcls\u001b[39m, expr, Tuple(\u001b[38;5;241m*\u001b[39mvariables), point)\n\u001b[0;32m-> 2216\u001b[0m obj\u001b[38;5;241m.\u001b[39m_expr \u001b[38;5;241m=\u001b[39m expr\u001b[38;5;241m.\u001b[39mxreplace(\u001b[38;5;28mdict\u001b[39m(reps))\n\u001b[1;32m   2217\u001b[0m \u001b[38;5;28;01mreturn\u001b[39;00m obj\n",
      "File \u001b[0;32m~/anaconda3/lib/python3.11/site-packages/sympy/core/basic.py:1230\u001b[0m, in \u001b[0;36mBasic.xreplace\u001b[0;34m(self, rule)\u001b[0m\n\u001b[1;32m   1168\u001b[0m \u001b[38;5;28;01mdef\u001b[39;00m \u001b[38;5;21mxreplace\u001b[39m(\u001b[38;5;28mself\u001b[39m, rule):\n\u001b[1;32m   1169\u001b[0m \u001b[38;5;250m    \u001b[39m\u001b[38;5;124;03m\"\"\"\u001b[39;00m\n\u001b[1;32m   1170\u001b[0m \u001b[38;5;124;03m    Replace occurrences of objects within the expression.\u001b[39;00m\n\u001b[1;32m   1171\u001b[0m \n\u001b[0;32m   (...)\u001b[0m\n\u001b[1;32m   1228\u001b[0m \n\u001b[1;32m   1229\u001b[0m \u001b[38;5;124;03m    \"\"\"\u001b[39;00m\n\u001b[0;32m-> 1230\u001b[0m     value, _ \u001b[38;5;241m=\u001b[39m \u001b[38;5;28mself\u001b[39m\u001b[38;5;241m.\u001b[39m_xreplace(rule)\n\u001b[1;32m   1231\u001b[0m     \u001b[38;5;28;01mreturn\u001b[39;00m value\n",
      "File \u001b[0;32m~/anaconda3/lib/python3.11/site-packages/sympy/core/basic.py:1252\u001b[0m, in \u001b[0;36mBasic._xreplace\u001b[0;34m(self, rule)\u001b[0m\n\u001b[1;32m   1250\u001b[0m     args \u001b[38;5;241m=\u001b[39m \u001b[38;5;28mtuple\u001b[39m(args)\n\u001b[1;32m   1251\u001b[0m     \u001b[38;5;28;01mif\u001b[39;00m changed:\n\u001b[0;32m-> 1252\u001b[0m         \u001b[38;5;28;01mreturn\u001b[39;00m \u001b[38;5;28mself\u001b[39m\u001b[38;5;241m.\u001b[39mfunc(\u001b[38;5;241m*\u001b[39margs), \u001b[38;5;28;01mTrue\u001b[39;00m\n\u001b[1;32m   1253\u001b[0m \u001b[38;5;28;01mreturn\u001b[39;00m \u001b[38;5;28mself\u001b[39m, \u001b[38;5;28;01mFalse\u001b[39;00m\n",
      "File \u001b[0;32m~/anaconda3/lib/python3.11/site-packages/sympy/core/function.py:1334\u001b[0m, in \u001b[0;36mDerivative.__new__\u001b[0;34m(cls, expr, *variables, **kwargs)\u001b[0m\n\u001b[1;32m   1332\u001b[0m     \u001b[38;5;28;01mif\u001b[39;00m \u001b[38;5;129;01mnot\u001b[39;00m v\u001b[38;5;241m.\u001b[39m_diff_wrt:\n\u001b[1;32m   1333\u001b[0m         __ \u001b[38;5;241m=\u001b[39m \u001b[38;5;124m'\u001b[39m\u001b[38;5;124m'\u001b[39m  \u001b[38;5;66;03m# filler to make error message neater\u001b[39;00m\n\u001b[0;32m-> 1334\u001b[0m         \u001b[38;5;28;01mraise\u001b[39;00m \u001b[38;5;167;01mValueError\u001b[39;00m(filldedent(\u001b[38;5;124m'''\u001b[39m\n\u001b[1;32m   1335\u001b[0m \u001b[38;5;124m            Can\u001b[39m\u001b[38;5;124m'\u001b[39m\u001b[38;5;124mt calculate derivative wrt \u001b[39m\u001b[38;5;132;01m%s\u001b[39;00m\u001b[38;5;124m.\u001b[39m\u001b[38;5;132;01m%s\u001b[39;00m\u001b[38;5;124m'''\u001b[39m \u001b[38;5;241m%\u001b[39m (v,\n\u001b[1;32m   1336\u001b[0m             __)))\n\u001b[1;32m   1338\u001b[0m \u001b[38;5;66;03m# We make a special case for 0th derivative, because there is no\u001b[39;00m\n\u001b[1;32m   1339\u001b[0m \u001b[38;5;66;03m# good way to unambiguously print this.\u001b[39;00m\n\u001b[1;32m   1340\u001b[0m \u001b[38;5;28;01mif\u001b[39;00m \u001b[38;5;28mlen\u001b[39m(variable_count) \u001b[38;5;241m==\u001b[39m \u001b[38;5;241m0\u001b[39m:\n",
      "\u001b[0;31mValueError\u001b[0m: \nCan't calculate derivative wrt Derivative(_0, t)."
     ]
    }
   ],
   "source": [
    "# θ=0で線形化すると計算が失敗します。これは動摩擦のsignの非連続の項が存在するためです\n",
    "\n",
    "A10 = theta1_ddot_sol.diff(theta1).subs([(theta1, 0), (theta2, 0), (theta1_dot, 0), (theta2_dot, 0)])\n",
    "A11 = theta1_ddot_sol.diff(theta1_dot).subs([(theta1, 0), (theta2, 0), (theta1_dot, 0), (theta2_dot, 0)])\n",
    "A12 = theta1_ddot_sol.diff(theta2).subs([(theta1, 0), (theta2, 0), (theta1_dot, 0), (theta2_dot, 0)])\n",
    "A13 = theta1_ddot_sol.diff(theta2_dot).subs([(theta1, 0), (theta2, 0), (theta1_dot, 0), (theta2_dot, 0)])\n",
    "\n",
    "A30 = theta2_ddot_sol.diff(theta1).subs([(theta1, 0), (theta2, 0), (theta1_dot, 0), (theta2_dot, 0)])\n",
    "A31 = theta2_ddot_sol.diff(theta1_dot).subs([(theta1, 0), (theta2, 0), (theta1_dot, 0), (theta2_dot, 0)])\n",
    "A32 = theta2_ddot_sol.diff(theta2).subs([(theta1, 0), (theta2, 0), (theta1_dot, 0), (theta2_dot, 0)])\n",
    "A33 = theta2_ddot_sol.diff(theta2_dot).subs([(theta1, 0), (theta2, 0), (theta1_dot, 0), (theta2_dot, 0)])\n",
    "\n",
    "B00 = theta1_ddot_sol.diff(tau1).subs([(theta1, 0), (theta2, 0), (theta1_dot, 0), (theta2_dot, 0)])\n",
    "B30 = theta2_ddot_sol.diff(tau1).subs([(theta1, 0), (theta2, 0), (theta1_dot, 0), (theta2_dot, 0)])\n",
    "\n",
    "display(A10.simplify())\n",
    "display(A11.simplify())\n",
    "display(A12.simplify())\n",
    "display(A13.simplify())\n",
    "display(A30.simplify())\n",
    "display(A31.simplify())\n",
    "display(A32.simplify())\n",
    "display(A33.simplify())\n",
    "display(B00.simplify())\n",
    "display(B30.simplify())"
   ]
  },
  {
   "cell_type": "code",
   "execution_count": 9,
   "metadata": {},
   "outputs": [
    {
     "data": {
      "image/png": "[encoded data removed]",
      "text/latex": [
       "$\\displaystyle \\alpha_{1} \\ddot{\\theta}_{1} + \\alpha_{3} \\cos{\\left(\\theta_{1} - \\theta_{2} \\right)} \\ddot{\\theta}_{2} = - \\alpha_{3} \\sin{\\left(\\theta_{1} - \\theta_{2} \\right)} \\dot{\\theta}_{2}^{2} + \\alpha_{4} \\sin{\\left(\\theta_{1} \\right)} + \\mu_{2} \\dot{\\theta}_{2} + \\tau_{1} - \\left(\\mu_{1} + \\mu_{2}\\right) \\dot{\\theta}_{1}$"
      ],
      "text/plain": [
       "                                                 2                            \n",
       "α₁⋅θ₁̈ + α₃⋅cos(θ₁ - θ₂)⋅θ₂̈ = - α₃⋅sin(θ₁ - θ₂)⋅θ₂̇  + α₄⋅sin(θ₁) + μ₂⋅θ₂̇ + \n",
       "\n",
       "             \n",
       "τ₁ - (μ₁ + μ₂)⋅θ₁̇"
      ]
     },
     "metadata": {},
     "output_type": "display_data"
    },
    {
     "data": {
      "image/png": "[encoded data removed]",
      "text/latex": [
       "$\\displaystyle \\alpha_{2} \\ddot{\\theta}_{2} + \\alpha_{3} \\cos{\\left(\\theta_{1} - \\theta_{2} \\right)} \\ddot{\\theta}_{1} = \\alpha_{3} \\sin{\\left(\\theta_{1} - \\theta_{2} \\right)} \\dot{\\theta}_{1}^{2} + \\alpha_{5} \\sin{\\left(\\theta_{2} \\right)} + \\mu_{2} \\dot{\\theta}_{1} - \\mu_{2} \\dot{\\theta}_{2}$"
      ],
      "text/plain": [
       "                                               2                             \n",
       "α₂⋅θ₂̈ + α₃⋅cos(θ₁ - θ₂)⋅θ₁̈ = α₃⋅sin(θ₁ - θ₂)⋅θ₁̇  + α₅⋅sin(θ₂) + μ₂⋅θ₁̇ - μ₂⋅θ₂̇"
      ]
     },
     "metadata": {},
     "output_type": "display_data"
    }
   ],
   "source": [
    "# 動摩擦のsignの非連続の項を抜いた上でもう一度解を求め、線形化を行います。\n",
    "\n",
    "import sympy as sp\n",
    "import sys\n",
    "sys.setrecursionlimit(1500)\n",
    "\n",
    "# 時間変数の定義\n",
    "t = sp.symbols(\"t\")\n",
    "\n",
    "# 角度とその時間微分の定義\n",
    "theta1 = sp.Function(\"theta1\")(t)\n",
    "theta2 = sp.Function(\"theta2\")(t)\n",
    "theta1_dot = sp.diff(theta1, t)\n",
    "theta2_dot = sp.diff(theta2, t)\n",
    "theta1_ddot = sp.diff(theta1, t, t)\n",
    "theta2_ddot = sp.diff(theta2, t, t)\n",
    "\n",
    "# 定数の定義\n",
    "alpha1, alpha2, alpha3, alpha4, alpha5, mu1, mu2, tau1, f1, f2 = sp.symbols(\n",
    "    \"alpha1 alpha2 alpha3 alpha4 alpha5 mu1 mu2 tau1 f1 f2\"\n",
    ")\n",
    "theta12 = theta1 - theta2\n",
    "\n",
    "# 連立方程式の定義\n",
    "eq1 = sp.Eq(\n",
    "    alpha1 * theta1_ddot + alpha3 * sp.cos(theta12) * theta2_ddot,\n",
    "    -alpha3 * theta2_dot**2 * sp.sin(theta12)\n",
    "    + alpha4 * sp.sin(theta1)\n",
    "    - (mu1 + mu2) * theta1_dot\n",
    "    + mu2 * theta2_dot\n",
    "    + tau1\n",
    "    # - sp.sign(theta1_dot) * f1,\n",
    ")\n",
    "eq2 = sp.Eq(\n",
    "    alpha3 * sp.cos(theta12) * theta1_ddot + alpha2 * theta2_ddot,\n",
    "    alpha3 * theta1_dot**2 * sp.sin(theta12)\n",
    "    + alpha5 * sp.sin(theta2)\n",
    "    + mu2 * theta1_dot\n",
    "    - mu2 * theta2_dot\n",
    "    # - sp.sign(theta2_dot - theta1_dot) * f2,\n",
    ")\n",
    "display(eq1.simplify())\n",
    "display(eq2.simplify())"
   ]
  },
  {
   "cell_type": "code",
   "execution_count": 10,
   "metadata": {},
   "outputs": [
    {
     "data": {
      "image/png": "[encoded data removed]",
      "text/latex": [
       "$\\displaystyle - \\frac{\\alpha_{2} \\alpha_{3} \\sin{\\left(\\theta_{1} - \\theta_{2} \\right)} \\dot{\\theta}_{2}^{2}}{\\alpha_{1} \\alpha_{2} - \\alpha_{3}^{2} \\cos^{2}{\\left(\\theta_{1} - \\theta_{2} \\right)}} + \\frac{\\alpha_{2} \\alpha_{4} \\sin{\\left(\\theta_{1} \\right)}}{\\alpha_{1} \\alpha_{2} - \\alpha_{3}^{2} \\cos^{2}{\\left(\\theta_{1} - \\theta_{2} \\right)}} - \\frac{\\alpha_{2} \\mu_{1} \\dot{\\theta}_{1}}{\\alpha_{1} \\alpha_{2} - \\alpha_{3}^{2} \\cos^{2}{\\left(\\theta_{1} - \\theta_{2} \\right)}} - \\frac{\\alpha_{2} \\mu_{2} \\dot{\\theta}_{1}}{\\alpha_{1} \\alpha_{2} - \\alpha_{3}^{2} \\cos^{2}{\\left(\\theta_{1} - \\theta_{2} \\right)}} + \\frac{\\alpha_{2} \\mu_{2} \\dot{\\theta}_{2}}{\\alpha_{1} \\alpha_{2} - \\alpha_{3}^{2} \\cos^{2}{\\left(\\theta_{1} - \\theta_{2} \\right)}} + \\frac{\\alpha_{2} \\tau_{1}}{\\alpha_{1} \\alpha_{2} - \\alpha_{3}^{2} \\cos^{2}{\\left(\\theta_{1} - \\theta_{2} \\right)}} - \\frac{\\alpha_{3}^{2} \\sin{\\left(\\theta_{1} - \\theta_{2} \\right)} \\cos{\\left(\\theta_{1} - \\theta_{2} \\right)} \\dot{\\theta}_{1}^{2}}{\\alpha_{1} \\alpha_{2} - \\alpha_{3}^{2} \\cos^{2}{\\left(\\theta_{1} - \\theta_{2} \\right)}} - \\frac{\\alpha_{3} \\alpha_{5} \\sin{\\left(\\theta_{2} \\right)} \\cos{\\left(\\theta_{1} - \\theta_{2} \\right)}}{\\alpha_{1} \\alpha_{2} - \\alpha_{3}^{2} \\cos^{2}{\\left(\\theta_{1} - \\theta_{2} \\right)}} - \\frac{\\alpha_{3} \\mu_{2} \\cos{\\left(\\theta_{1} - \\theta_{2} \\right)} \\dot{\\theta}_{1}}{\\alpha_{1} \\alpha_{2} - \\alpha_{3}^{2} \\cos^{2}{\\left(\\theta_{1} - \\theta_{2} \\right)}} + \\frac{\\alpha_{3} \\mu_{2} \\cos{\\left(\\theta_{1} - \\theta_{2} \\right)} \\dot{\\theta}_{2}}{\\alpha_{1} \\alpha_{2} - \\alpha_{3}^{2} \\cos^{2}{\\left(\\theta_{1} - \\theta_{2} \\right)}}$"
      ],
      "text/plain": [
       "                           2                                                  \n",
       "   α₂⋅α₃⋅sin(θ₁ - θ₂)⋅θ₂̇           α₂⋅α₄⋅sin(θ₁)                 α₂⋅μ₁⋅θ₁̇   \n",
       "- ───────────────────────── + ───────────────────────── - ────────────────────\n",
       "            2    2                      2    2                      2    2    \n",
       "  α₁⋅α₂ - α₃ ⋅cos (θ₁ - θ₂)   α₁⋅α₂ - α₃ ⋅cos (θ₁ - θ₂)   α₁⋅α₂ - α₃ ⋅cos (θ₁ \n",
       "\n",
       "                                                                              \n",
       "                α₂⋅μ₂⋅θ₁̇                   α₂⋅μ₂⋅θ₂̇                     α₂⋅τ\n",
       "───── - ───────────────────────── + ───────────────────────── + ──────────────\n",
       "                  2    2                      2    2                      2   \n",
       "- θ₂)   α₁⋅α₂ - α₃ ⋅cos (θ₁ - θ₂)   α₁⋅α₂ - α₃ ⋅cos (θ₁ - θ₂)   α₁⋅α₂ - α₃ ⋅co\n",
       "\n",
       "               2                             2                                \n",
       "₁             α₃ ⋅sin(θ₁ - θ₂)⋅cos(θ₁ - θ₂)⋅θ₁̇    α₃⋅α₅⋅sin(θ₂)⋅cos(θ₁ - θ₂) \n",
       "─────────── - ───────────────────────────────── - ────────────────────────── -\n",
       " 2                          2    2                          2    2            \n",
       "s (θ₁ - θ₂)       α₁⋅α₂ - α₃ ⋅cos (θ₁ - θ₂)       α₁⋅α₂ - α₃ ⋅cos (θ₁ - θ₂)   \n",
       "\n",
       "                                                      \n",
       "    α₃⋅μ₂⋅cos(θ₁ - θ₂)⋅θ₁̇      α₃⋅μ₂⋅cos(θ₁ - θ₂)⋅θ₂̇ \n",
       " ───────────────────────── + ─────────────────────────\n",
       "           2    2                      2    2         \n",
       " α₁⋅α₂ - α₃ ⋅cos (θ₁ - θ₂)   α₁⋅α₂ - α₃ ⋅cos (θ₁ - θ₂)"
      ]
     },
     "metadata": {},
     "output_type": "display_data"
    },
    {
     "data": {
      "image/png": "[encoded data removed]",
      "text/latex": [
       "$\\displaystyle \\frac{\\alpha_{1} \\alpha_{3} \\sin{\\left(\\theta_{1} - \\theta_{2} \\right)} \\dot{\\theta}_{1}^{2}}{\\alpha_{1} \\alpha_{2} - \\alpha_{3}^{2} \\cos^{2}{\\left(\\theta_{1} - \\theta_{2} \\right)}} + \\frac{\\alpha_{1} \\alpha_{5} \\sin{\\left(\\theta_{2} \\right)}}{\\alpha_{1} \\alpha_{2} - \\alpha_{3}^{2} \\cos^{2}{\\left(\\theta_{1} - \\theta_{2} \\right)}} + \\frac{\\alpha_{1} \\mu_{2} \\dot{\\theta}_{1}}{\\alpha_{1} \\alpha_{2} - \\alpha_{3}^{2} \\cos^{2}{\\left(\\theta_{1} - \\theta_{2} \\right)}} - \\frac{\\alpha_{1} \\mu_{2} \\dot{\\theta}_{2}}{\\alpha_{1} \\alpha_{2} - \\alpha_{3}^{2} \\cos^{2}{\\left(\\theta_{1} - \\theta_{2} \\right)}} + \\frac{\\alpha_{3}^{2} \\sin{\\left(\\theta_{1} - \\theta_{2} \\right)} \\cos{\\left(\\theta_{1} - \\theta_{2} \\right)} \\dot{\\theta}_{2}^{2}}{\\alpha_{1} \\alpha_{2} - \\alpha_{3}^{2} \\cos^{2}{\\left(\\theta_{1} - \\theta_{2} \\right)}} - \\frac{\\alpha_{3} \\alpha_{4} \\sin{\\left(\\theta_{1} \\right)} \\cos{\\left(\\theta_{1} - \\theta_{2} \\right)}}{\\alpha_{1} \\alpha_{2} - \\alpha_{3}^{2} \\cos^{2}{\\left(\\theta_{1} - \\theta_{2} \\right)}} + \\frac{\\alpha_{3} \\mu_{1} \\cos{\\left(\\theta_{1} - \\theta_{2} \\right)} \\dot{\\theta}_{1}}{\\alpha_{1} \\alpha_{2} - \\alpha_{3}^{2} \\cos^{2}{\\left(\\theta_{1} - \\theta_{2} \\right)}} + \\frac{\\alpha_{3} \\mu_{2} \\cos{\\left(\\theta_{1} - \\theta_{2} \\right)} \\dot{\\theta}_{1}}{\\alpha_{1} \\alpha_{2} - \\alpha_{3}^{2} \\cos^{2}{\\left(\\theta_{1} - \\theta_{2} \\right)}} - \\frac{\\alpha_{3} \\mu_{2} \\cos{\\left(\\theta_{1} - \\theta_{2} \\right)} \\dot{\\theta}_{2}}{\\alpha_{1} \\alpha_{2} - \\alpha_{3}^{2} \\cos^{2}{\\left(\\theta_{1} - \\theta_{2} \\right)}} - \\frac{\\alpha_{3} \\tau_{1} \\cos{\\left(\\theta_{1} - \\theta_{2} \\right)}}{\\alpha_{1} \\alpha_{2} - \\alpha_{3}^{2} \\cos^{2}{\\left(\\theta_{1} - \\theta_{2} \\right)}}$"
      ],
      "text/plain": [
       "                         2                                                    \n",
       " α₁⋅α₃⋅sin(θ₁ - θ₂)⋅θ₁̇           α₁⋅α₅⋅sin(θ₂)                 α₁⋅μ₂⋅θ₁̇     \n",
       "───────────────────────── + ───────────────────────── + ──────────────────────\n",
       "          2    2                      2    2                      2    2      \n",
       "α₁⋅α₂ - α₃ ⋅cos (θ₁ - θ₂)   α₁⋅α₂ - α₃ ⋅cos (θ₁ - θ₂)   α₁⋅α₂ - α₃ ⋅cos (θ₁ - \n",
       "\n",
       "                                    2                             2           \n",
       "              α₁⋅μ₂⋅θ₂̇           α₃ ⋅sin(θ₁ - θ₂)⋅cos(θ₁ - θ₂)⋅θ₂̇    α₃⋅α₄⋅s\n",
       "─── - ───────────────────────── + ───────────────────────────────── - ────────\n",
       "                2    2                          2    2                        \n",
       "θ₂)   α₁⋅α₂ - α₃ ⋅cos (θ₁ - θ₂)       α₁⋅α₂ - α₃ ⋅cos (θ₁ - θ₂)       α₁⋅α₂ - \n",
       "\n",
       "                                                                              \n",
       "in(θ₁)⋅cos(θ₁ - θ₂)     α₃⋅μ₁⋅cos(θ₁ - θ₂)⋅θ₁̇      α₃⋅μ₂⋅cos(θ₁ - θ₂)⋅θ₁̇    \n",
       "────────────────── + ───────────────────────── + ───────────────────────── - ─\n",
       "  2    2                       2    2                      2    2             \n",
       "α₃ ⋅cos (θ₁ - θ₂)    α₁⋅α₂ - α₃ ⋅cos (θ₁ - θ₂)   α₁⋅α₂ - α₃ ⋅cos (θ₁ - θ₂)   α\n",
       "\n",
       "                                                    \n",
       "  α₃⋅μ₂⋅cos(θ₁ - θ₂)⋅θ₂̇        α₃⋅τ₁⋅cos(θ₁ - θ₂)   \n",
       "──────────────────────── - ─────────────────────────\n",
       "         2    2                      2    2         \n",
       "₁⋅α₂ - α₃ ⋅cos (θ₁ - θ₂)   α₁⋅α₂ - α₃ ⋅cos (θ₁ - θ₂)"
      ]
     },
     "metadata": {},
     "output_type": "display_data"
    }
   ],
   "source": [
    "# 連立方程式の解を求める\n",
    "solutions = sp.solve([eq1, eq2], (theta1_ddot, theta2_ddot))\n",
    "theta1_ddot_sol = solutions[theta1_ddot]\n",
    "theta2_ddot_sol = solutions[theta2_ddot]\n",
    "\n",
    "display(theta1_ddot_sol)\n",
    "display(theta2_ddot_sol)"
   ]
  },
  {
   "cell_type": "code",
   "execution_count": 11,
   "metadata": {},
   "outputs": [
    {
     "data": {
      "image/png": "[encoded data removed]",
      "text/latex": [
       "$\\displaystyle \\frac{\\alpha_{2} \\alpha_{4}}{\\alpha_{1} \\alpha_{2} - \\alpha_{3}^{2}}$"
      ],
      "text/plain": [
       "   α₂⋅α₄   \n",
       "───────────\n",
       "          2\n",
       "α₁⋅α₂ - α₃ "
      ]
     },
     "metadata": {},
     "output_type": "display_data"
    },
    {
     "data": {
      "image/png": "[encoded data removed]",
      "text/latex": [
       "$\\displaystyle \\frac{- \\alpha_{2} \\mu_{1} - \\alpha_{2} \\mu_{2} - \\alpha_{3} \\mu_{2}}{\\alpha_{1} \\alpha_{2} - \\alpha_{3}^{2}}$"
      ],
      "text/plain": [
       "-α₂⋅μ₁ - α₂⋅μ₂ - α₃⋅μ₂\n",
       "──────────────────────\n",
       "               2      \n",
       "     α₁⋅α₂ - α₃       "
      ]
     },
     "metadata": {},
     "output_type": "display_data"
    },
    {
     "data": {
      "image/png": "[encoded data removed]",
      "text/latex": [
       "$\\displaystyle - \\frac{\\alpha_{3} \\alpha_{5}}{\\alpha_{1} \\alpha_{2} - \\alpha_{3}^{2}}$"
      ],
      "text/plain": [
       "  -α₃⋅α₅   \n",
       "───────────\n",
       "          2\n",
       "α₁⋅α₂ - α₃ "
      ]
     },
     "metadata": {},
     "output_type": "display_data"
    },
    {
     "data": {
      "image/png": "[encoded data removed]",
      "text/latex": [
       "$\\displaystyle \\frac{\\mu_{2} \\left(\\alpha_{2} + \\alpha_{3}\\right)}{\\alpha_{1} \\alpha_{2} - \\alpha_{3}^{2}}$"
      ],
      "text/plain": [
       "μ₂⋅(α₂ + α₃)\n",
       "────────────\n",
       "          2 \n",
       "α₁⋅α₂ - α₃  "
      ]
     },
     "metadata": {},
     "output_type": "display_data"
    },
    {
     "data": {
      "image/png": "[encoded data removed]",
      "text/latex": [
       "$\\displaystyle - \\frac{\\alpha_{3} \\alpha_{4}}{\\alpha_{1} \\alpha_{2} - \\alpha_{3}^{2}}$"
      ],
      "text/plain": [
       "  -α₃⋅α₄   \n",
       "───────────\n",
       "          2\n",
       "α₁⋅α₂ - α₃ "
      ]
     },
     "metadata": {},
     "output_type": "display_data"
    },
    {
     "data": {
      "image/png": "[encoded data removed]",
      "text/latex": [
       "$\\displaystyle \\frac{\\alpha_{1} \\mu_{2} + \\alpha_{3} \\mu_{1} + \\alpha_{3} \\mu_{2}}{\\alpha_{1} \\alpha_{2} - \\alpha_{3}^{2}}$"
      ],
      "text/plain": [
       "α₁⋅μ₂ + α₃⋅μ₁ + α₃⋅μ₂\n",
       "─────────────────────\n",
       "               2     \n",
       "     α₁⋅α₂ - α₃      "
      ]
     },
     "metadata": {},
     "output_type": "display_data"
    },
    {
     "data": {
      "image/png": "[encoded data removed]",
      "text/latex": [
       "$\\displaystyle \\frac{\\alpha_{1} \\alpha_{5}}{\\alpha_{1} \\alpha_{2} - \\alpha_{3}^{2}}$"
      ],
      "text/plain": [
       "   α₁⋅α₅   \n",
       "───────────\n",
       "          2\n",
       "α₁⋅α₂ - α₃ "
      ]
     },
     "metadata": {},
     "output_type": "display_data"
    },
    {
     "data": {
      "image/png": "[encoded data removed]",
      "text/latex": [
       "$\\displaystyle \\frac{\\mu_{2} \\left(- \\alpha_{1} - \\alpha_{3}\\right)}{\\alpha_{1} \\alpha_{2} - \\alpha_{3}^{2}}$"
      ],
      "text/plain": [
       "μ₂⋅(-α₁ - α₃)\n",
       "─────────────\n",
       "           2 \n",
       " α₁⋅α₂ - α₃  "
      ]
     },
     "metadata": {},
     "output_type": "display_data"
    },
    {
     "data": {
      "image/png": "[encoded data removed]",
      "text/latex": [
       "$\\displaystyle \\frac{\\alpha_{2}}{\\alpha_{1} \\alpha_{2} - \\alpha_{3}^{2}}$"
      ],
      "text/plain": [
       "     α₂    \n",
       "───────────\n",
       "          2\n",
       "α₁⋅α₂ - α₃ "
      ]
     },
     "metadata": {},
     "output_type": "display_data"
    },
    {
     "data": {
      "image/png": "[encoded data removed]",
      "text/latex": [
       "$\\displaystyle - \\frac{\\alpha_{3}}{\\alpha_{1} \\alpha_{2} - \\alpha_{3}^{2}}$"
      ],
      "text/plain": [
       "    -α₃    \n",
       "───────────\n",
       "          2\n",
       "α₁⋅α₂ - α₃ "
      ]
     },
     "metadata": {},
     "output_type": "display_data"
    }
   ],
   "source": [
    "A10 = theta1_ddot_sol.diff(theta1).subs([(theta1, 0), (theta2, 0), (theta1_dot, 0), (theta2_dot, 0)])\n",
    "A11 = theta1_ddot_sol.diff(theta1_dot).subs([(theta1, 0), (theta2, 0), (theta1_dot, 0), (theta2_dot, 0)])\n",
    "A12 = theta1_ddot_sol.diff(theta2).subs([(theta1, 0), (theta2, 0), (theta1_dot, 0), (theta2_dot, 0)])\n",
    "A13 = theta1_ddot_sol.diff(theta2_dot).subs([(theta1, 0), (theta2, 0), (theta1_dot, 0), (theta2_dot, 0)])\n",
    "\n",
    "A30 = theta2_ddot_sol.diff(theta1).subs([(theta1, 0), (theta2, 0), (theta1_dot, 0), (theta2_dot, 0)])\n",
    "A31 = theta2_ddot_sol.diff(theta1_dot).subs([(theta1, 0), (theta2, 0), (theta1_dot, 0), (theta2_dot, 0)])\n",
    "A32 = theta2_ddot_sol.diff(theta2).subs([(theta1, 0), (theta2, 0), (theta1_dot, 0), (theta2_dot, 0)])\n",
    "A33 = theta2_ddot_sol.diff(theta2_dot).subs([(theta1, 0), (theta2, 0), (theta1_dot, 0), (theta2_dot, 0)])\n",
    "\n",
    "B00 = theta1_ddot_sol.diff(tau1).subs([(theta1, 0), (theta2, 0), (theta1_dot, 0), (theta2_dot, 0)])\n",
    "B30 = theta2_ddot_sol.diff(tau1).subs([(theta1, 0), (theta2, 0), (theta1_dot, 0), (theta2_dot, 0)])\n",
    "\n",
    "display(A10.simplify())\n",
    "display(A11.simplify())\n",
    "display(A12.simplify())\n",
    "display(A13.simplify())\n",
    "display(A30.simplify())\n",
    "display(A31.simplify())\n",
    "display(A32.simplify())\n",
    "display(A33.simplify())\n",
    "display(B00.simplify())\n",
    "display(B30.simplify())"
   ]
  }
 ],
 "metadata": {
  "kernelspec": {
   "display_name": "Python 3",
   "language": "python",
   "name": "python3"
  },
  "language_info": {
   "codemirror_mode": {
    "name": "ipython",
    "version": 3
   },
   "file_extension": ".py",
   "mimetype": "text/x-python",
   "name": "python",
   "nbconvert_exporter": "python",
   "pygments_lexer": "ipython3",
   "version": "3.11.7"
  }
 },
 "nbformat": 4,
 "nbformat_minor": 2
}
